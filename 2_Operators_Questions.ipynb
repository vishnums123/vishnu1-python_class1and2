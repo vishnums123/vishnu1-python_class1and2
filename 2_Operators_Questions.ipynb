{
 "cells": [
  {
   "cell_type": "code",
   "execution_count": 5,
   "metadata": {},
   "outputs": [
    {
     "name": "stdout",
     "output_type": "stream",
     "text": [
      "15\n",
      "5\n",
      "2\n",
      "0\n"
     ]
    }
   ],
   "source": [
    "# 1 .Question | Write a program to print 15,5,2 and 0 ,use the approriate operator\n",
    "\n",
    "a = 10\n",
    "b = 5\n",
    "\n",
    "# Your Answer\n",
    "c=a+b\n",
    "d=a-b\n",
    "e=a/b\n",
    "f=a-2*b\n",
    "print(c)\n",
    "print(d)\n",
    "print(int(e))\n",
    "print((f))\n",
    "\n",
    "\n",
    "\n",
    "\n"
   ]
  },
  {
   "cell_type": "code",
   "execution_count": 6,
   "metadata": {},
   "outputs": [
    {
     "name": "stdout",
     "output_type": "stream",
     "text": [
      "9\n"
     ]
    }
   ],
   "source": [
    "# 2 .Question | write a code to print 9 , use the approriate operator\n",
    "a = 3\n",
    "b = 2\n",
    "\n",
    "# Your Answer\n",
    "c=a*b+a\n",
    "print(c)\n"
   ]
  },
  {
   "cell_type": "code",
   "execution_count": 9,
   "metadata": {},
   "outputs": [
    {
     "name": "stdout",
     "output_type": "stream",
     "text": [
      "2\n",
      "2.25\n",
      "1\n"
     ]
    }
   ],
   "source": [
    "# 4 .Question | # write a code to print 2 , 2.25 and 1 , use the approriate operator\n",
    "\n",
    "x = 9\n",
    "y = 4\n",
    "\n",
    "# Your Answer\n",
    "z=int(x/y)\n",
    "print(z)\n",
    "a=float(x/y)\n",
    "print(a)\n",
    "b=x-2*y\n",
    "print(b)\n",
    "\n",
    "\n"
   ]
  },
  {
   "cell_type": "code",
   "execution_count": 11,
   "metadata": {},
   "outputs": [
    {
     "name": "stdout",
     "output_type": "stream",
     "text": [
      "True\n"
     ]
    }
   ],
   "source": [
    "# 5 .Question |  # write a code print True ,use the approriate operator\n",
    "\n",
    "a = 10\n",
    "b = 5\n",
    "\n",
    "# Your Answer\n",
    "c=a/2*b\n",
    "print(bool(c))\n",
    "\n",
    "\n",
    "\n"
   ]
  },
  {
   "cell_type": "code",
   "execution_count": 12,
   "metadata": {},
   "outputs": [
    {
     "name": "stdout",
     "output_type": "stream",
     "text": [
      "False\n"
     ]
    }
   ],
   "source": [
    "# 5 .Question | # # write a code print Fale\n",
    "\n",
    "a = 15\n",
    "b = 15 \n",
    "\n",
    "# Your Answer\n",
    "c=a-b\n",
    "print(bool(c))\n",
    "\n",
    "\n",
    "\n"
   ]
  },
  {
   "cell_type": "code",
   "execution_count": 13,
   "metadata": {},
   "outputs": [
    {
     "name": "stdout",
     "output_type": "stream",
     "text": [
      "True\n"
     ]
    }
   ],
   "source": [
    "# 6 .Question | # # write a code print True\n",
    "\n",
    "a = 24\n",
    "b = 24\n",
    "\n",
    "# Your Answer\n",
    "c=a/b\n",
    "print(bool(c))\n",
    "\n",
    "\n",
    "\n"
   ]
  },
  {
   "cell_type": "code",
   "execution_count": 17,
   "metadata": {},
   "outputs": [
    {
     "name": "stdout",
     "output_type": "stream",
     "text": [
      "True\n"
     ]
    }
   ],
   "source": [
    "# 7 .Question | # # write a code print True\n",
    "\n",
    "a = \"python\"\n",
    "b = \"python\"\n",
    "\n",
    "# Your Answer\n",
    "print(a == b)\n",
    "\n",
    "\n",
    "\n"
   ]
  },
  {
   "cell_type": "code",
   "execution_count": 18,
   "metadata": {},
   "outputs": [
    {
     "name": "stdout",
     "output_type": "stream",
     "text": [
      "False\n"
     ]
    }
   ],
   "source": [
    "# 8 .Question | #  write a code print false using and operator\n",
    "\n",
    "a = 10 \n",
    "b = 20\n",
    "\n",
    "# Your Answer\n",
    "print(a > 10 and b < 30)\n",
    "\n",
    "\n",
    "\n"
   ]
  },
  {
   "cell_type": "code",
   "execution_count": 19,
   "metadata": {},
   "outputs": [
    {
     "name": "stdout",
     "output_type": "stream",
     "text": [
      "True\n"
     ]
    }
   ],
   "source": [
    "# 9 .Question | #  write a code print True using or operator\n",
    "\n",
    "a = 20\n",
    "b = 10 \n",
    "\n",
    "# Your Answer\n",
    "print(a > 10 and b < 20)\n",
    "\n",
    "\n",
    "\n",
    "\n"
   ]
  },
  {
   "cell_type": "code",
   "execution_count": 21,
   "metadata": {},
   "outputs": [
    {
     "name": "stdout",
     "output_type": "stream",
     "text": [
      "True\n"
     ]
    }
   ],
   "source": [
    "# 10 .Question | #  write a code print True using Not operator\n",
    "\n",
    "a = 20\n",
    "b = 10 \n",
    "\n",
    "# Your Answer\n",
    "\n",
    "print(a != b)\n",
    "\n",
    "\n"
   ]
  },
  {
   "cell_type": "code",
   "execution_count": null,
   "metadata": {},
   "outputs": [],
   "source": []
  }
 ],
 "metadata": {
  "kernelspec": {
   "display_name": "Python [conda env:base] *",
   "language": "python",
   "name": "conda-base-py"
  },
  "language_info": {
   "codemirror_mode": {
    "name": "ipython",
    "version": 3
   },
   "file_extension": ".py",
   "mimetype": "text/x-python",
   "name": "python",
   "nbconvert_exporter": "python",
   "pygments_lexer": "ipython3",
   "version": "3.12.7"
  }
 },
 "nbformat": 4,
 "nbformat_minor": 4
}

{
 "cells": [
  {
   "cell_type": "markdown",
   "metadata": {},
   "source": [
    "# String Simple Questions"
   ]
  },
  {
   "cell_type": "code",
   "execution_count": null,
   "metadata": {},
   "outputs": [],
   "source": [
    "1. Write a Python program to calculate the length of a given string.\n",
    "    Data:\n",
    "        \"Baskar\"\n",
    "    Expected Output:\n",
    "        6\n",
    "        \n",
    "        \n",
    "        \n",
    "        "
   ]
  },
  {
   "cell_type": "code",
   "execution_count": null,
   "metadata": {},
   "outputs": [],
   "source": [
    "s = \"Baskar\"\n",
    "print(len(s))"
   ]
  },
  {
   "cell_type": "code",
   "execution_count": null,
   "metadata": {},
   "outputs": [],
   "source": [
    "2. Write a Python program to remove the character of the nth index from a given string. \n",
    "    Data:\n",
    "        \"Python\"\n",
    "    Expected Output:\n",
    "        ython\n",
    "        Pyton\n",
    "        Pytho\n",
    "    \n",
    "    \n",
    "    \n",
    "    "
   ]
  },
  {
   "cell_type": "code",
   "execution_count": null,
   "metadata": {},
   "outputs": [],
   "source": [
    "s = \"Python\"\n",
    "print(s[1:])\n",
    "print(s[0:3] + s[4:])\n",
    "print(s[0:5])"
   ]
  },
  {
   "cell_type": "code",
   "execution_count": null,
   "metadata": {},
   "outputs": [],
   "source": [
    "3. Write a Python program to interchange the first and last character of a given string.\n",
    "    Data:\n",
    "        'abcd'\n",
    "        '12345'\n",
    "    Expected Output:\n",
    "        dbca\n",
    "        52341\n",
    "        \n",
    "        \n",
    "        \n",
    "        "
   ]
  },
  {
   "cell_type": "code",
   "execution_count": null,
   "metadata": {},
   "outputs": [],
   "source": [
    "s1 = \"abcd\"\n",
    "s2 = \"12345\"\n",
    "\n",
    "print(s1[-1] + s1[1:-1] + s1[0])\n",
    "print(s2[-1] + s2[1:-1] + s2[0])"
   ]
  },
  {
   "cell_type": "code",
   "execution_count": null,
   "metadata": {},
   "outputs": [],
   "source": [
    "4. Write a Python program to remove the values of the odd index from a given string.\n",
    "    Data:\n",
    "        'abcdef'\n",
    "        'python'\n",
    "    Expected Output:\n",
    "        ace\n",
    "        pto\n",
    "        \n",
    "        \n",
    "        \n",
    "        "
   ]
  },
  {
   "cell_type": "code",
   "execution_count": null,
   "metadata": {},
   "outputs": [],
   "source": [
    "s1 = \"abcdef\"\n",
    "for i,j in enumerate(s1):\n",
    "    if i % 2 == 0:\n",
    "        print(j, end=\"\")\n",
    "print()\n",
    "s2 = \"python\"\n",
    "for i,j in enumerate(s2):\n",
    "    if i % 2 == 0:\n",
    "        print(j, end=\"\")"
   ]
  },
  {
   "cell_type": "code",
   "execution_count": null,
   "metadata": {},
   "outputs": [],
   "source": [
    "5. Write a Python program to get input from the user and print the input back in uppercase.\n",
    "    Data:\n",
    "        Whats your favourite language: Tamil\n",
    "    Expected Output:\n",
    "        My favourite language is  TAMIL\n",
    "        My favourite language is  tamil\n",
    "        \n",
    "        \n",
    "        \n",
    "        "
   ]
  },
  {
   "cell_type": "code",
   "execution_count": null,
   "metadata": {},
   "outputs": [],
   "source": [
    "lan = input(\"Whats your favourite language:\")\n",
    "print(lan.upper())\n",
    "print(lan.lower())"
   ]
  },
  {
   "cell_type": "code",
   "execution_count": null,
   "metadata": {},
   "outputs": [],
   "source": [
    "6. Write a Python program that accepts a comma separated sequence of words as input and print only the unique strings in sorted.\n",
    "    Data:\n",
    "        Words : red, white, black, red, green, black\n",
    "    Expected Output:\n",
    "        black, green, red, white,red\n",
    "        \n",
    "        \n",
    "        \n",
    "        "
   ]
  },
  {
   "cell_type": "code",
   "execution_count": null,
   "metadata": {},
   "outputs": [],
   "source": [
    "words = input(\"Words:\")\n",
    "l = words.split(',') # spliting the words with ,\n",
    "unique_words = set(l) # get unique words using set()\n",
    "sorted_words = sorted(unique_words) # sort the words using sorted()\n",
    "print(','.join(sorted_words)) "
   ]
  },
  {
   "cell_type": "code",
   "execution_count": null,
   "metadata": {},
   "outputs": [],
   "source": [
    "7. Write a Python function to create the HTML string with tags around the string.\n",
    "    Data:\n",
    "        ('i', 'Python')\n",
    "        ('b', 'Python Tutorial')\n",
    "    Expected Output:\n",
    "        <i>Python</i>\n",
    "        <b>Python Tutorial </b>\n",
    "        \n",
    "        \n",
    "        \n",
    "        "
   ]
  },
  {
   "cell_type": "code",
   "execution_count": null,
   "metadata": {},
   "outputs": [],
   "source": [
    "def create_html_string(tag,content):\n",
    "    return f\"<{tag}>{content}</{tag}>\"\n",
    "\n",
    "data = [('i', 'Python'),\n",
    "        ('b', 'Python Tutorial')]\n",
    "for tag,content in data:\n",
    "    result = create_html_string(tag,content)\n",
    "    print(result)"
   ]
  },
  {
   "cell_type": "code",
   "execution_count": null,
   "metadata": {},
   "outputs": [],
   "source": [
    "8. Write a Python function to insert the second string in the middle of a first string.\n",
    "    Data:\n",
    "        ('[[]]', 'Python')\n",
    "        ('{{}}', 'PHP')\n",
    "    Expected Output:\n",
    "        [[Python]]\n",
    "        {{PHP}}\n",
    "        \n",
    "        \n",
    "        \n",
    "        "
   ]
  },
  {
   "cell_type": "code",
   "execution_count": null,
   "metadata": {},
   "outputs": [],
   "source": [
    "def func1(data):\n",
    "    l = round((len(data[0]))/2)\n",
    "    return data[0][:l]+data[1]+data[0][l:]\n",
    "    \n",
    "data = [('[[]]', 'Python'),\n",
    "        ('{{}}', 'PHP')]\n",
    "for data in data:\n",
    "    res = func1(data)\n",
    "    print(res)"
   ]
  },
  {
   "cell_type": "code",
   "execution_count": null,
   "metadata": {},
   "outputs": [],
   "source": [
    "9. Write a Python function to get a string made of 4 copies of the last two characters of a specified string \n",
    "    (length must be at least 2).\n",
    "    Data:\n",
    "        'Python'\n",
    "    Expected Output:\n",
    "        onononon\n",
    "        \n",
    "        \n",
    "        \n",
    "        "
   ]
  },
  {
   "cell_type": "code",
   "execution_count": null,
   "metadata": {},
   "outputs": [],
   "source": [
    "def last_2_chars(data):\n",
    "    return data[-2:]*4\n",
    "data = 'Python'\n",
    "print(last_2_chars(data))"
   ]
  },
  {
   "cell_type": "code",
   "execution_count": null,
   "metadata": {},
   "outputs": [],
   "source": [
    "10. Write a Python function to get a string made of its first three characters of a specified string. \n",
    "    If the length of the string is less than 3 then return the original string.\n",
    "    Data:\n",
    "        'ipy'\n",
    "        'python'\n",
    "    Expected Output:\n",
    "        ipy\n",
    "        pyt\n",
    "        \n",
    "        \n",
    "        \n",
    "        "
   ]
  },
  {
   "cell_type": "code",
   "execution_count": null,
   "metadata": {},
   "outputs": [],
   "source": [
    "def first_3_chars(data):\n",
    "    if len(data)<3:\n",
    "        return data\n",
    "    else:\n",
    "        return data[:3]\n",
    "data = ['ipy','python','ok']\n",
    "for i in data:\n",
    "    print(first_3_chars(i))"
   ]
  },
  {
   "cell_type": "code",
   "execution_count": null,
   "metadata": {},
   "outputs": [],
   "source": [
    "11. Write a Python function to reverse a string if its length is a multiple of 4.\n",
    "    Data:\n",
    "        'abcd'\n",
    "        'python'\n",
    "    Expected Output:\n",
    "        dcba\n",
    "        python\n",
    "        \n",
    "        \n",
    "        \n",
    "        "
   ]
  },
  {
   "cell_type": "code",
   "execution_count": null,
   "metadata": {},
   "outputs": [],
   "source": [
    "def reverse_string(data):\n",
    "    if len(data)%4 == 0:\n",
    "        return data[::-1]\n",
    "    \n",
    "    return data\n",
    "data = ['abcd','python']\n",
    "for i in data:\n",
    "    print(reverse_string(i))"
   ]
  },
  {
   "cell_type": "code",
   "execution_count": null,
   "metadata": {},
   "outputs": [],
   "source": [
    "12. Write a Python program to get the last part of a string before a specified character.\n",
    "    Data:\n",
    "        str1 = 'https://www.aidinasaur.com/python-exercises/string'\n",
    "    Expected Output:\n",
    "        https://www.aidinasaur.com/python-exercises\n",
    "        https://www.aidinasaur.com/python\n",
    "            \n",
    "            \n",
    "            \n",
    "            "
   ]
  },
  {
   "cell_type": "code",
   "execution_count": null,
   "metadata": {},
   "outputs": [],
   "source": [
    "str1 = 'https://www.aidinasaur.com/python-exercises/string'\n",
    "last_index_slash = str1.rfind('/')\n",
    "print(str1[:last_index_slash])\n",
    "last_index_hyphen = str1.rfind('-')\n",
    "print(str1[:last_index_hyphen])"
   ]
  },
  {
   "cell_type": "code",
   "execution_count": null,
   "metadata": {},
   "outputs": [],
   "source": [
    "13. Write a Python program to sort a string lexicographically.\n",
    "    Data:\n",
    "        aidinasaur\n",
    "    Expected Output: \n",
    "        ['a', 'a', 'a', 'd', 'i', 'i', 'n', 'r', 's', 'u']\n",
    "        \n",
    "        \n",
    "    \n",
    "    "
   ]
  },
  {
   "cell_type": "code",
   "execution_count": null,
   "metadata": {},
   "outputs": [],
   "source": [
    "data = 'aidinasaur'\n",
    "l = sorted([i for i in data])\n",
    "l"
   ]
  },
  {
   "cell_type": "code",
   "execution_count": null,
   "metadata": {},
   "outputs": [],
   "source": [
    "14. Write a Python program to remove a newline in Python.\n",
    "    Data:\n",
    "        'Python Exercises\\n'\n",
    "    Expected Output: \n",
    "        Python Exercises\n",
    "\n",
    "        Python Exercises\n",
    "        \n",
    "        \n",
    "        \n",
    "        "
   ]
  },
  {
   "cell_type": "code",
   "execution_count": null,
   "metadata": {},
   "outputs": [],
   "source": [
    "data = 'Python Exercises\\n'\n",
    "data.split('\\n')\n",
    "print(data)"
   ]
  },
  {
   "cell_type": "code",
   "execution_count": null,
   "metadata": {},
   "outputs": [],
   "source": [
    "15. Write a Python program to check whether a string starts with specified character.\n",
    "    Data:\n",
    "        aidinasaur.com\n",
    "    Expected Output:\n",
    "        True\n",
    "        \n",
    "        \n",
    "        \n",
    "        "
   ]
  },
  {
   "cell_type": "code",
   "execution_count": null,
   "metadata": {},
   "outputs": [],
   "source": [
    "data = 'aidinasaur.com'\n",
    "if data.startswith('aidinasaur.com'):\n",
    "    print (True)"
   ]
  },
  {
   "cell_type": "code",
   "execution_count": null,
   "metadata": {},
   "outputs": [],
   "source": [
    "16. Write a Python program to count the number of occurrences of a substring in a string.\n",
    "    Data:\n",
    "        \"Word to publish Word docs as web pages\"\n",
    "        count = \"word\"\n",
    "    Expected Output:\n",
    "        2\n",
    "        \n",
    "        \n",
    "        \n",
    "        "
   ]
  },
  {
   "cell_type": "code",
   "execution_count": null,
   "metadata": {},
   "outputs": [],
   "source": [
    "data = \"Word to publish Word docs as web pages\"\n",
    "count = \"word\"\n",
    "data_l = data.lower()\n",
    "count_l = count.lower()\n",
    "print(data_l.count(count_l))"
   ]
  },
  {
   "cell_type": "code",
   "execution_count": null,
   "metadata": {},
   "outputs": [],
   "source": [
    "17. Write a Python program to reverse a string.\n",
    "    Data:\n",
    "        \"abcdef\"\n",
    "        \"Python Exercises.\"\n",
    "    Expected Output:\n",
    "        fedcba\n",
    "        .sesicrexE nohtyP\n",
    "        \n",
    "        \n",
    "        \n",
    "        "
   ]
  },
  {
   "cell_type": "code",
   "execution_count": null,
   "metadata": {},
   "outputs": [],
   "source": [
    "data = [\"abcdef\",\"Python Exercises.\"]\n",
    "res = []\n",
    "for i in data:\n",
    "    res.append(i[::-1])\n",
    "print(res)"
   ]
  },
  {
   "cell_type": "code",
   "execution_count": null,
   "metadata": {},
   "outputs": [],
   "source": [
    "18. Write a Python program to lowercase first n characters in a string.\n",
    "    Data:\n",
    "        \"AIDINASAUR.COM\"\n",
    "    Expected Output:  \n",
    "        aidiNASAUR.COM\n",
    "        \n",
    "        \n",
    "        \n",
    "        "
   ]
  },
  {
   "cell_type": "code",
   "execution_count": null,
   "metadata": {},
   "outputs": [],
   "source": [
    "data = \"AIDINASAUR.COM\"\n",
    "res = data[:5].lower() + data[5:]\n",
    "print(res)"
   ]
  },
  {
   "cell_type": "code",
   "execution_count": null,
   "metadata": {},
   "outputs": [],
   "source": [
    "19. Write a Python program to swap comma and dot in a string.\n",
    "    Data:\n",
    "        \"32.054,23\"\n",
    "    Expected Output:\n",
    "        \"32,054.23\"\n",
    "        \n",
    "        \n",
    "        \n",
    "        "
   ]
  },
  {
   "cell_type": "code",
   "execution_count": null,
   "metadata": {},
   "outputs": [],
   "source": [
    "data = \"32.054,23\"\n",
    "temp_string1 = data.replace('.','temp')\n",
    "temp_string2 = temp_string1.replace(',','.')\n",
    "temp_string3 = temp_string2.replace('temp',',')\n",
    "print(temp_string3)"
   ]
  },
  {
   "cell_type": "code",
   "execution_count": null,
   "metadata": {},
   "outputs": [],
   "source": [
    "20. Write a Python program to count and display the vowels of a given text.\n",
    "    Data:\n",
    "        \"AIDINASAUR.COM\"\n",
    "    Expected Output:\n",
    "        7\n",
    "        ['A', 'I', 'I', 'A', 'A', 'U', 'O']\n",
    "        \n",
    "        \n",
    "        \n",
    "        "
   ]
  },
  {
   "cell_type": "code",
   "execution_count": null,
   "metadata": {},
   "outputs": [],
   "source": [
    "data = \"AIDINASAUR.COM\"\n",
    "vowels = 'AEIOU'\n",
    "output = []\n",
    "for i in data:\n",
    "    if i in vowels:\n",
    "        output.append(i)\n",
    "print(len(output))\n",
    "print(output)"
   ]
  }
 ],
 "metadata": {
  "kernelspec": {
   "display_name": "Python [conda env:base] *",
   "language": "python",
   "name": "conda-base-py"
  },
  "language_info": {
   "codemirror_mode": {
    "name": "ipython",
    "version": 3
   },
   "file_extension": ".py",
   "mimetype": "text/x-python",
   "name": "python",
   "nbconvert_exporter": "python",
   "pygments_lexer": "ipython3",
   "version": "3.12.7"
  }
 },
 "nbformat": 4,
 "nbformat_minor": 4
}

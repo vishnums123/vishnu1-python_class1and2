{
 "cells": [
  {
   "cell_type": "raw",
   "metadata": {},
   "source": [
    "Read Five marks tamil,english,maths,science and social and if all marks are greater than 35 , print pass else print fail"
   ]
  },
  {
   "cell_type": "code",
   "execution_count": null,
   "metadata": {},
   "outputs": [],
   "source": [
    "tamil_marks = int(input(\"Enter Tamil marks: \"))\n",
    "english_marks = int(input(\"Enter English marks: \"))\n",
    "maths_marks = int(input(\"Enter Maths marks: \"))\n",
    "science_marks = int(input(\"Enter Science marks: \"))\n",
    "social_marks = int(input(\"Enter Social marks: \"))\n",
    "\n",
    "# Check if all marks are greater than 35\n",
    "if (tamil_marks > 35 and\n",
    "    english_marks > 35 and\n",
    "    maths_marks > 35 and\n",
    "    science_marks > 35 and\n",
    "    social_marks > 35):\n",
    "    print(\"pass\")\n",
    "else:\n",
    "    print(\"fail\")\n"
   ]
  },
  {
   "cell_type": "code",
   "execution_count": null,
   "metadata": {},
   "outputs": [],
   "source": []
  },
  {
   "cell_type": "code",
   "execution_count": null,
   "metadata": {},
   "outputs": [],
   "source": []
  }
 ],
 "metadata": {
  "kernelspec": {
   "display_name": "Python [conda env:base] *",
   "language": "python",
   "name": "conda-base-py"
  },
  "language_info": {
   "codemirror_mode": {
    "name": "ipython",
    "version": 3
   },
   "file_extension": ".py",
   "mimetype": "text/x-python",
   "name": "python",
   "nbconvert_exporter": "python",
   "pygments_lexer": "ipython3",
   "version": "3.12.7"
  }
 },
 "nbformat": 4,
 "nbformat_minor": 4
}
